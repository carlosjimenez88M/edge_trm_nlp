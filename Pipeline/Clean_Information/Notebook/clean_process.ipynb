{
 "cells": [
  {
   "cell_type": "markdown",
   "source": [
    "### ETL Process"
   ],
   "metadata": {
    "collapsed": false
   }
  },
  {
   "cell_type": "code",
   "execution_count": 1,
   "metadata": {
    "collapsed": true,
    "ExecuteTime": {
     "end_time": "2024-07-08T22:42:08.805155Z",
     "start_time": "2024-07-08T22:42:08.084954Z"
    }
   },
   "outputs": [],
   "source": [
    "import pandas as pd"
   ]
  },
  {
   "cell_type": "markdown",
   "source": [
    "### News"
   ],
   "metadata": {
    "collapsed": false
   }
  },
  {
   "cell_type": "code",
   "execution_count": 2,
   "outputs": [
    {
     "data": {
      "text/plain": "                                               Title          Source  \\\n0  Resumen de noticias de las elecciones en Franc...  CNN en Español   \n1  Quién es Jean-Luc Mélenchon: el político de iz...         infobae   \n2  Macron pide a su primer ministro continuar \"po...    DW (Español)   \n3  La izquierda celebra en París su inesperada vi...   El Colombiano   \n4  Gremios aseguran que no hay laboratorios que p...   El Colombiano   \n\n  Publication Time                                 Author  \n0         10:24:37                                   None  \n1         01:24:37                                   None  \n2         09:24:37                                   None  \n3         22:24:37                                   None  \n4         00:24:37  Andrés VillamizarDe Andrés Villamizar  ",
      "text/html": "<div>\n<style scoped>\n    .dataframe tbody tr th:only-of-type {\n        vertical-align: middle;\n    }\n\n    .dataframe tbody tr th {\n        vertical-align: top;\n    }\n\n    .dataframe thead th {\n        text-align: right;\n    }\n</style>\n<table border=\"1\" class=\"dataframe\">\n  <thead>\n    <tr style=\"text-align: right;\">\n      <th></th>\n      <th>Title</th>\n      <th>Source</th>\n      <th>Publication Time</th>\n      <th>Author</th>\n    </tr>\n  </thead>\n  <tbody>\n    <tr>\n      <th>0</th>\n      <td>Resumen de noticias de las elecciones en Franc...</td>\n      <td>CNN en Español</td>\n      <td>10:24:37</td>\n      <td>None</td>\n    </tr>\n    <tr>\n      <th>1</th>\n      <td>Quién es Jean-Luc Mélenchon: el político de iz...</td>\n      <td>infobae</td>\n      <td>01:24:37</td>\n      <td>None</td>\n    </tr>\n    <tr>\n      <th>2</th>\n      <td>Macron pide a su primer ministro continuar \"po...</td>\n      <td>DW (Español)</td>\n      <td>09:24:37</td>\n      <td>None</td>\n    </tr>\n    <tr>\n      <th>3</th>\n      <td>La izquierda celebra en París su inesperada vi...</td>\n      <td>El Colombiano</td>\n      <td>22:24:37</td>\n      <td>None</td>\n    </tr>\n    <tr>\n      <th>4</th>\n      <td>Gremios aseguran que no hay laboratorios que p...</td>\n      <td>El Colombiano</td>\n      <td>00:24:37</td>\n      <td>Andrés VillamizarDe Andrés Villamizar</td>\n    </tr>\n  </tbody>\n</table>\n</div>"
     },
     "execution_count": 2,
     "metadata": {},
     "output_type": "execute_result"
    }
   ],
   "source": [
    "news = pd.read_parquet('../../data/2024-07-08_news_data.parquet')\n",
    "news.head()"
   ],
   "metadata": {
    "collapsed": false,
    "ExecuteTime": {
     "end_time": "2024-07-08T22:43:14.509680Z",
     "start_time": "2024-07-08T22:43:12.597836Z"
    }
   }
  },
  {
   "cell_type": "code",
   "execution_count": 15,
   "outputs": [
    {
     "name": "stdout",
     "output_type": "stream",
     "text": [
      "Quién Jean-Luc Mélenchon: político izquierda quiere sacar Francia OTAN apoya chavismo\n"
     ]
    }
   ],
   "source": [
    "## Remover Stopwords en español\n",
    "\n",
    "from nltk.corpus import stopwords\n",
    "#[w for w in news['Title'][1] not in stopwords.words(\"spanish\")]\n",
    "words = news['Title'][1].split()\n",
    "#print([w for w in words if w not in stopwords.words(\"spanish\")])\n",
    "filtered_title = ' '.join([w for w in words if w not in stopwords.words(\"spanish\")])\n",
    "print(filtered_title)\n",
    "#print(stopwords.words(\"spanish\"))"
   ],
   "metadata": {
    "collapsed": false,
    "ExecuteTime": {
     "end_time": "2024-07-08T22:53:52.130771Z",
     "start_time": "2024-07-08T22:53:52.123240Z"
    }
   }
  },
  {
   "cell_type": "code",
   "execution_count": 17,
   "outputs": [],
   "source": [
    "## Creando una función\n",
    "from nltk.corpus import stopwords\n",
    "import re\n",
    "stop_words = set(stopwords.words(\"spanish\"))\n",
    "\n",
    "def clean_titles(df):\n",
    "    def clean_text(text):\n",
    "        text = re.sub(r'[^\\w\\s]', '', text)\n",
    "        return text\n",
    "    filtered_titles = df['Title'].apply(lambda title: ' '.join(\n",
    "        [w for w in clean_text(title).split() if w.lower() not in stop_words]\n",
    "    ))\n",
    "\n",
    "    return filtered_titles"
   ],
   "metadata": {
    "collapsed": false,
    "ExecuteTime": {
     "end_time": "2024-07-08T23:00:28.140378Z",
     "start_time": "2024-07-08T23:00:28.139501Z"
    }
   }
  },
  {
   "cell_type": "code",
   "execution_count": 18,
   "outputs": [
    {
     "data": {
      "text/plain": "0    Resumen noticias elecciones Francia 2024 resul...\n1    Quién JeanLuc Mélenchon político izquierda qui...\n2        Macron pide primer ministro continuar momento\nName: Title, dtype: object"
     },
     "execution_count": 18,
     "metadata": {},
     "output_type": "execute_result"
    }
   ],
   "source": [
    "clean_titles(news.head(3))"
   ],
   "metadata": {
    "collapsed": false,
    "ExecuteTime": {
     "end_time": "2024-07-08T23:00:45.275707Z",
     "start_time": "2024-07-08T23:00:45.273550Z"
    }
   }
  },
  {
   "cell_type": "code",
   "execution_count": 47,
   "outputs": [],
   "source": [
    "## Remove Duplicate Names Authors\n",
    "\n",
    "def clean_author(author):\n",
    "    if not author:\n",
    "        return author\n",
    "\n",
    "\n",
    "    pattern = re.compile(r'(.*?)De\\s\\1', re.IGNORECASE)\n",
    "    author = re.sub(pattern, r'\\1', author)\n",
    "\n",
    "\n",
    "    words = author.split()\n",
    "    half_length = len(words) // 2\n",
    "    if words[:half_length] == words[half_length:]:\n",
    "        return ' '.join(words[:half_length])\n",
    "\n",
    "    return author\n"
   ],
   "metadata": {
    "collapsed": false,
    "ExecuteTime": {
     "end_time": "2024-07-08T23:17:39.982409Z",
     "start_time": "2024-07-08T23:17:39.981388Z"
    }
   }
  },
  {
   "cell_type": "code",
   "execution_count": 49,
   "outputs": [
    {
     "data": {
      "text/plain": "0                                                  None\n1                                                  None\n2                                                  None\n3                                                  None\n4                                     Andrés Villamizar\n5                                                  None\n6                                                  None\n7                                                  None\n8                                                  None\n9                                                  None\n10    Victoria Butenko, Maria Kostenko y Daria Taras...\n11                                        Alberto Rojas\n12                                                 None\n13                                                 None\n14                                  Luis Carvajal Basto\n15                                                 None\n16                                                 None\n17                                     Angie Ruiz Rojas\n18                                    María José Castro\n19                                                 None\nName: Author, dtype: object"
     },
     "execution_count": 49,
     "metadata": {},
     "output_type": "execute_result"
    }
   ],
   "source": [
    "news['Author'].head(20).apply(clean_author)"
   ],
   "metadata": {
    "collapsed": false,
    "ExecuteTime": {
     "end_time": "2024-07-08T23:17:48.465076Z",
     "start_time": "2024-07-08T23:17:48.461895Z"
    }
   }
  },
  {
   "cell_type": "markdown",
   "source": [
    "### Clean Dolar"
   ],
   "metadata": {
    "collapsed": false
   }
  },
  {
   "cell_type": "code",
   "execution_count": 50,
   "outputs": [
    {
     "data": {
      "text/plain": "         Date             Hour Exchange_rate\n0  2024-07-08  17:24:42.898065    $ 4.096,09",
      "text/html": "<div>\n<style scoped>\n    .dataframe tbody tr th:only-of-type {\n        vertical-align: middle;\n    }\n\n    .dataframe tbody tr th {\n        vertical-align: top;\n    }\n\n    .dataframe thead th {\n        text-align: right;\n    }\n</style>\n<table border=\"1\" class=\"dataframe\">\n  <thead>\n    <tr style=\"text-align: right;\">\n      <th></th>\n      <th>Date</th>\n      <th>Hour</th>\n      <th>Exchange_rate</th>\n    </tr>\n  </thead>\n  <tbody>\n    <tr>\n      <th>0</th>\n      <td>2024-07-08</td>\n      <td>17:24:42.898065</td>\n      <td>$ 4.096,09</td>\n    </tr>\n  </tbody>\n</table>\n</div>"
     },
     "execution_count": 50,
     "metadata": {},
     "output_type": "execute_result"
    }
   ],
   "source": [
    "dolar =  pd.read_parquet('../../data/2024-07-08_exchange_rate.parquet')\n",
    "dolar"
   ],
   "metadata": {
    "collapsed": false,
    "ExecuteTime": {
     "end_time": "2024-07-08T23:18:59.382076Z",
     "start_time": "2024-07-08T23:18:59.364918Z"
    }
   }
  },
  {
   "cell_type": "code",
   "execution_count": 53,
   "outputs": [],
   "source": [
    "def clean_time(time_obj):\n",
    "    return time_obj.strftime('%H:%M:%S')"
   ],
   "metadata": {
    "collapsed": false,
    "ExecuteTime": {
     "end_time": "2024-07-08T23:21:08.283743Z",
     "start_time": "2024-07-08T23:21:08.282389Z"
    }
   }
  },
  {
   "cell_type": "code",
   "execution_count": 54,
   "outputs": [
    {
     "data": {
      "text/plain": "0    17:24:42\nName: Hour, dtype: object"
     },
     "execution_count": 54,
     "metadata": {},
     "output_type": "execute_result"
    }
   ],
   "source": [
    "dolar['Hour'].apply(clean_time)"
   ],
   "metadata": {
    "collapsed": false,
    "ExecuteTime": {
     "end_time": "2024-07-08T23:21:10.731252Z",
     "start_time": "2024-07-08T23:21:10.724999Z"
    }
   }
  },
  {
   "cell_type": "code",
   "execution_count": 64,
   "outputs": [],
   "source": [
    "def clean_value(value_str):\n",
    "    value_str = value_str.replace('$', '').replace('.', '')\n",
    "    value_str = value_str.split(',')[0]\n",
    "    return int(value_str)\n"
   ],
   "metadata": {
    "collapsed": false,
    "ExecuteTime": {
     "end_time": "2024-07-08T23:25:25.351577Z",
     "start_time": "2024-07-08T23:25:25.348855Z"
    }
   }
  },
  {
   "cell_type": "code",
   "execution_count": 65,
   "outputs": [
    {
     "data": {
      "text/plain": "0    4096\nName: Exchange_rate, dtype: int64"
     },
     "execution_count": 65,
     "metadata": {},
     "output_type": "execute_result"
    }
   ],
   "source": [
    "dolar['Exchange_rate'].apply(clean_value)"
   ],
   "metadata": {
    "collapsed": false,
    "ExecuteTime": {
     "end_time": "2024-07-08T23:25:27.452607Z",
     "start_time": "2024-07-08T23:25:27.448885Z"
    }
   }
  }
 ],
 "metadata": {
  "kernelspec": {
   "display_name": "Python 3",
   "language": "python",
   "name": "python3"
  },
  "language_info": {
   "codemirror_mode": {
    "name": "ipython",
    "version": 2
   },
   "file_extension": ".py",
   "mimetype": "text/x-python",
   "name": "python",
   "nbconvert_exporter": "python",
   "pygments_lexer": "ipython2",
   "version": "2.7.6"
  }
 },
 "nbformat": 4,
 "nbformat_minor": 0
}
